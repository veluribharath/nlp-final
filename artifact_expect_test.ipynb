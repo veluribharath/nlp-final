{
 "cells": [
  {
   "cell_type": "code",
   "execution_count": 2,
   "metadata": {},
   "outputs": [
    {
     "name": "stderr",
     "output_type": "stream",
     "text": [
      "c:\\Users\\skrum\\.conda\\envs\\data\\Lib\\site-packages\\tqdm\\auto.py:21: TqdmWarning: IProgress not found. Please update jupyter and ipywidgets. See https://ipywidgets.readthedocs.io/en/stable/user_install.html\n",
      "  from .autonotebook import tqdm as notebook_tqdm\n"
     ]
    },
    {
     "data": {
      "text/plain": [
       "ElectraModel(\n",
       "  (embeddings): ElectraEmbeddings(\n",
       "    (word_embeddings): Embedding(30522, 128, padding_idx=0)\n",
       "    (position_embeddings): Embedding(512, 128)\n",
       "    (token_type_embeddings): Embedding(2, 128)\n",
       "    (LayerNorm): LayerNorm((128,), eps=1e-12, elementwise_affine=True)\n",
       "    (dropout): Dropout(p=0.1, inplace=False)\n",
       "  )\n",
       "  (embeddings_project): Linear(in_features=128, out_features=256, bias=True)\n",
       "  (encoder): ElectraEncoder(\n",
       "    (layer): ModuleList(\n",
       "      (0-11): 12 x ElectraLayer(\n",
       "        (attention): ElectraAttention(\n",
       "          (self): ElectraSelfAttention(\n",
       "            (query): Linear(in_features=256, out_features=256, bias=True)\n",
       "            (key): Linear(in_features=256, out_features=256, bias=True)\n",
       "            (value): Linear(in_features=256, out_features=256, bias=True)\n",
       "            (dropout): Dropout(p=0.1, inplace=False)\n",
       "          )\n",
       "          (output): ElectraSelfOutput(\n",
       "            (dense): Linear(in_features=256, out_features=256, bias=True)\n",
       "            (LayerNorm): LayerNorm((256,), eps=1e-12, elementwise_affine=True)\n",
       "            (dropout): Dropout(p=0.1, inplace=False)\n",
       "          )\n",
       "        )\n",
       "        (intermediate): ElectraIntermediate(\n",
       "          (dense): Linear(in_features=256, out_features=1024, bias=True)\n",
       "          (intermediate_act_fn): GELUActivation()\n",
       "        )\n",
       "        (output): ElectraOutput(\n",
       "          (dense): Linear(in_features=1024, out_features=256, bias=True)\n",
       "          (LayerNorm): LayerNorm((256,), eps=1e-12, elementwise_affine=True)\n",
       "          (dropout): Dropout(p=0.1, inplace=False)\n",
       "        )\n",
       "      )\n",
       "    )\n",
       "  )\n",
       ")"
      ]
     },
     "execution_count": 2,
     "metadata": {},
     "output_type": "execute_result"
    }
   ],
   "source": [
    "from transformers import AutoModel, AutoTokenizer\n",
    "\n",
    "# Load the model\n",
    "model_path = 'artifact_expert_model_v2\\\\artifact_expert_model_v2\\\\checkpoint-1611'\n",
    "artifact_expert = AutoModel.from_pretrained(model_path)\n",
    "\n",
    "# Initialize the tokenizer\n",
    "tokenizer = AutoTokenizer.from_pretrained('google/electra-small-discriminator', use_fast=True)\n",
    "\n",
    "artifact_expert"
   ]
  },
  {
   "cell_type": "code",
   "execution_count": 3,
   "metadata": {},
   "outputs": [
    {
     "data": {
      "text/plain": [
       "DatasetDict({\n",
       "    train: Dataset({\n",
       "        features: ['premise', 'hypothesis', 'label', 'id'],\n",
       "        num_rows: 549367\n",
       "    })\n",
       "    validation: Dataset({\n",
       "        features: ['premise', 'hypothesis', 'label', 'id'],\n",
       "        num_rows: 9842\n",
       "    })\n",
       "    test: Dataset({\n",
       "        features: ['premise', 'hypothesis', 'label', 'id'],\n",
       "        num_rows: 9824\n",
       "    })\n",
       "})"
      ]
     },
     "execution_count": 3,
     "metadata": {},
     "output_type": "execute_result"
    }
   ],
   "source": [
    "from datasets import load_dataset\n",
    "\n",
    "# Load the dataset\n",
    "dataset = load_dataset('veluribharath/snli')\n",
    "\n",
    "dataset"
   ]
  },
  {
   "cell_type": "code",
   "execution_count": 15,
   "metadata": {},
   "outputs": [
    {
     "name": "stderr",
     "output_type": "stream",
     "text": [
      "Map:   0%|          | 0/549367 [00:00<?, ? examples/s]"
     ]
    },
    {
     "name": "stderr",
     "output_type": "stream",
     "text": [
      "Map: 100%|██████████| 549367/549367 [03:22<00:00, 2717.75 examples/s]\n",
      "Map: 100%|██████████| 9842/9842 [00:03<00:00, 2627.78 examples/s]\n",
      "Map: 100%|██████████| 9824/9824 [00:03<00:00, 2697.22 examples/s]"
     ]
    },
    {
     "name": "stdout",
     "output_type": "stream",
     "text": [
      "DatasetDict({\n",
      "    train: Dataset({\n",
      "        features: ['hypothesis', 'label', 'id', 'input_ids', 'token_type_ids', 'attention_mask'],\n",
      "        num_rows: 549367\n",
      "    })\n",
      "    validation: Dataset({\n",
      "        features: ['hypothesis', 'label', 'id', 'input_ids', 'token_type_ids', 'attention_mask'],\n",
      "        num_rows: 9842\n",
      "    })\n",
      "    test: Dataset({\n",
      "        features: ['hypothesis', 'label', 'id', 'input_ids', 'token_type_ids', 'attention_mask'],\n",
      "        num_rows: 9824\n",
      "    })\n",
      "})\n"
     ]
    },
    {
     "name": "stderr",
     "output_type": "stream",
     "text": [
      "\n"
     ]
    }
   ],
   "source": [
    "def tokenize_function(example):\n",
    "    # Tokenize the hypothesis and apply padding\n",
    "    return tokenizer(example['hypothesis'], truncation=True, padding='max_length', max_length=tokenizer.model_max_length)\n",
    "\n",
    "# Apply the tokenize function to the dataset\n",
    "tokenized_datasets = dataset.map(tokenize_function, batched=True)\n",
    "\n",
    "# Remove the 'premise' column\n",
    "tokenized_datasets = tokenized_datasets.remove_columns([\"premise\"])\n",
    "\n",
    "# The dataset now has the tokenized and padded hypothesis, labels, and ids, but not the premise\n",
    "print(tokenized_datasets)\n"
   ]
  },
  {
   "cell_type": "code",
   "execution_count": 16,
   "metadata": {},
   "outputs": [],
   "source": [
    "from torch.utils.data import DataLoader\n",
    "from transformers import default_data_collator\n",
    "import torch\n",
    "\n",
    "device = torch.device('cuda') if torch.cuda.is_available() else torch.device('cpu')\n",
    "\n",
    "# Move model to device\n",
    "artifact_expert.to(device)\n",
    "\n",
    "# Define a simple linear classifier with the same number of output units as classes\n",
    "num_labels = 3  # Adjust the number of labels as per your dataset specifics\n",
    "classifier = torch.nn.Linear(artifact_expert.config.hidden_size, num_labels).to(device)\n",
    "\n",
    "def get_predictions(dataset, model, classifier, tokenizer, batch_size=16):\n",
    "    # DataLoader to handle batching\n",
    "    dataloader = DataLoader(\n",
    "        dataset,\n",
    "        batch_size=batch_size, \n",
    "        collate_fn=default_data_collator\n",
    "    )\n",
    "\n",
    "    # Ensure model and classifier are on the same device\n",
    "    model.to(device)\n",
    "    classifier.to(device)\n",
    "\n",
    "    model.eval()\n",
    "    classifier.eval()\n",
    "\n",
    "    all_predictions = []\n",
    "    all_confidences = []\n",
    "    all_true_labels = []\n",
    "\n",
    "    for batch in dataloader:\n",
    "        # Move relevant model input keys to the same device as the model\n",
    "        model_inputs = {k: v.to(device) for k, v in batch.items() if k in tokenizer.model_input_names}\n",
    "\n",
    "        # Keep 'labels' on CPU (or move to GPU if you plan to use GPU for evaluation)\n",
    "        labels = batch['labels']\n",
    "\n",
    "        with torch.no_grad():\n",
    "            # Get model output using only the model input parts of the batch\n",
    "            outputs = model(**model_inputs)\n",
    "            # Apply the classifier to the last hidden states\n",
    "            logits = classifier(outputs.last_hidden_state[:, 0, :])  # Use the [CLS] representation\n",
    "            # Calculate softmax probabilities\n",
    "            probs = torch.nn.functional.softmax(logits, dim=-1)\n",
    "            # Get predictions and confidence scores\n",
    "            predictions = probs.argmax(dim=-1)\n",
    "            confidences = probs.max(dim=-1).values\n",
    "\n",
    "        all_predictions.extend(predictions.cpu().numpy())\n",
    "        all_confidences.extend(confidences.cpu().numpy())\n",
    "        all_true_labels.extend(labels.numpy())  # Assuming labels are not on GPU\n",
    "\n",
    "    # Convert lists to numpy arrays for indexing\n",
    "    all_predictions = np.array(all_predictions)\n",
    "    all_confidences = np.array(all_confidences)\n",
    "    all_true_labels = np.array(all_true_labels)\n",
    "\n",
    "    return all_predictions, all_confidences, all_true_labels\n",
    "\n",
    "# Get predictions, confidences, and true labels for the validation set\n",
    "predictions, confidences, true_labels = get_predictions(tokenized_datasets['validation'], artifact_expert, classifier, tokenizer)\n"
   ]
  },
  {
   "cell_type": "code",
   "execution_count": 21,
   "metadata": {},
   "outputs": [
    {
     "name": "stdout",
     "output_type": "stream",
     "text": [
      "Number of accurate predictions: 4215\n",
      "Number of inaccurate predictions: 5627\n",
      "Percentage of accurate predictions: 0.4282666124771388\n",
      "Percentage of inaccurate predictions: 0.5717333875228612\n"
     ]
    }
   ],
   "source": [
    "# Filter out the accurate predictions\n",
    "accurate_indices = predictions == true_labels\n",
    "accurate_predictions = predictions[accurate_indices]\n",
    "accurate_confidences = confidences[accurate_indices]\n",
    "\n",
    "# Filter out the accurate predictions\n",
    "inaccurate_indices = predictions != true_labels\n",
    "inaccurate_predictions = predictions[inaccurate_indices]\n",
    "inaccurate_confidences = confidences[inaccurate_indices]\n",
    "\n",
    "print(f'Number of accurate predictions: {len(accurate_predictions)}')\n",
    "print(f'Number of inaccurate predictions: {len(inaccurate_predictions)}')\n",
    "\n",
    "#Percentage of accurate predictions and inaccurate predictions\n",
    "print(f'Percentage of accurate predictions: {len(accurate_predictions)/len(predictions)}')\n",
    "print(f'Percentage of inaccurate predictions: {len(inaccurate_predictions)/len(predictions)}')\n",
    "\n",
    "assert len(accurate_predictions) + len(inaccurate_predictions) == len(predictions)"
   ]
  },
  {
   "cell_type": "code",
   "execution_count": 23,
   "metadata": {},
   "outputs": [
    {
     "name": "stdout",
     "output_type": "stream",
     "text": [
      "{'predictions': array([1, 1, 2, ..., 0, 2, 1], dtype=int64), 'confidences': array([0.3742352 , 0.38159496, 0.5081238 , ..., 0.41395518, 0.57047284,\n",
      "       0.3831905 ], dtype=float32), 'true_labels': array([1, 1, 2, ..., 0, 2, 1], dtype=int64)}\n",
      "{'predictions': array([2, 1, 2, ..., 1, 1, 2], dtype=int64), 'confidences': array([0.48271525, 0.43716353, 0.54936486, ..., 0.3873359 , 0.3891356 ,\n",
      "       0.3886815 ], dtype=float32), 'true_labels': array([0, 2, 0, ..., 0, 2, 0], dtype=int64)}\n"
     ]
    }
   ],
   "source": [
    "# dict of accurate output\n",
    "accurate_output = {\n",
    "    'predictions': accurate_predictions, \n",
    "    'confidences': accurate_confidences,\n",
    "    'true_labels': true_labels[accurate_indices]\n",
    "    }\n",
    "\n",
    "inaccurate_output = {\n",
    "    'predictions': inaccurate_predictions, \n",
    "    'confidences': inaccurate_confidences,\n",
    "    'true_labels': true_labels[inaccurate_indices]\n",
    "    }\n",
    "\n",
    "print(accurate_output)\n",
    "print(inaccurate_output)"
   ]
  },
  {
   "cell_type": "code",
   "execution_count": 25,
   "metadata": {},
   "outputs": [
    {
     "name": "stdout",
     "output_type": "stream",
     "text": [
      "{'predictions': array([2, 2, 2, ..., 0, 0, 0], dtype=int64), 'confidences': array([0.60370725, 0.5984036 , 0.59822285, ..., 0.33801007, 0.33570334,\n",
      "       0.33429477], dtype=float32), 'true_labels': array([2, 2, 2, ..., 0, 0, 0], dtype=int64)}\n",
      "{'predictions': array([2, 2, 2, ..., 2, 2, 1], dtype=int64), 'confidences': array([0.62734747, 0.61239845, 0.6118995 , ..., 0.33675805, 0.335899  ,\n",
      "       0.335044  ], dtype=float32), 'true_labels': array([0, 0, 1, ..., 0, 0, 0], dtype=int64)}\n",
      "Prediction: 2, Confidence: 0.6037072539329529, True label: 2\n",
      "Prediction: 2, Confidence: 0.5984035730361938, True label: 2\n",
      "Prediction: 2, Confidence: 0.5982228517532349, True label: 2\n",
      "Prediction: 2, Confidence: 0.5926666259765625, True label: 2\n",
      "Prediction: 2, Confidence: 0.5924074649810791, True label: 2\n",
      "Prediction: 2, Confidence: 0.5921867489814758, True label: 2\n",
      "Prediction: 2, Confidence: 0.5902161598205566, True label: 2\n",
      "Prediction: 2, Confidence: 0.5892191529273987, True label: 2\n",
      "Prediction: 2, Confidence: 0.5880027413368225, True label: 2\n",
      "Prediction: 2, Confidence: 0.5870957374572754, True label: 2\n",
      "Prediction: 2, Confidence: 0.627347469329834, True label: 0\n",
      "Prediction: 2, Confidence: 0.6123984456062317, True label: 0\n",
      "Prediction: 2, Confidence: 0.6118994951248169, True label: 1\n",
      "Prediction: 2, Confidence: 0.6084604263305664, True label: 0\n",
      "Prediction: 0, Confidence: 0.6052303910255432, True label: 1\n",
      "Prediction: 2, Confidence: 0.6024680137634277, True label: 1\n",
      "Prediction: 2, Confidence: 0.5974624752998352, True label: 0\n",
      "Prediction: 2, Confidence: 0.5973907709121704, True label: 0\n",
      "Prediction: 0, Confidence: 0.5970445871353149, True label: 1\n",
      "Prediction: 2, Confidence: 0.5943974256515503, True label: 0\n"
     ]
    }
   ],
   "source": [
    "import numpy as np\n",
    "\n",
    "# Function to sort a dictionary based on confidence scores\n",
    "def sort_by_confidence(output_dict):\n",
    "    # Extract arrays from the dictionary\n",
    "    predictions = output_dict['predictions']\n",
    "    confidences = output_dict['confidences']\n",
    "    true_labels = output_dict['true_labels']\n",
    "\n",
    "    # Get the sorted indices based on confidences\n",
    "    sorted_indices = np.argsort(confidences)[::-1]\n",
    "\n",
    "    # Sort all arrays using the sorted indices\n",
    "    sorted_dict = {\n",
    "        'predictions': predictions[sorted_indices],\n",
    "        'confidences': confidences[sorted_indices],\n",
    "        'true_labels': true_labels[sorted_indices]\n",
    "    }\n",
    "    return sorted_dict\n",
    "\n",
    "# Sort both dictionaries\n",
    "sorted_accurate_output = sort_by_confidence(accurate_output)\n",
    "sorted_inaccurate_output = sort_by_confidence(inaccurate_output)\n",
    "\n",
    "# Print the sorted dictionaries\n",
    "print(sorted_accurate_output)\n",
    "print(sorted_inaccurate_output)\n",
    "\n",
    "# Function to print the top n predictions in pretty format\n",
    "def print_top_n(sorted_dict, n=10):\n",
    "    # Extract arrays from the dictionary\n",
    "    predictions = sorted_dict['predictions']\n",
    "    confidences = sorted_dict['confidences']\n",
    "    true_labels = sorted_dict['true_labels']\n",
    "\n",
    "    # Print the top n predictions in a nicely formatted way\n",
    "    for i in range(n):\n",
    "        print(f'Prediction: {predictions[i]}, Confidence: {confidences[i]}, True label: {true_labels[i]}')\n",
    "\n",
    "# Print the top 10 accurate predictions\n",
    "print_top_n(sorted_accurate_output)\n",
    "\n",
    "# Print the top 10 inaccurate predictions\n",
    "print_top_n(sorted_inaccurate_output)"
   ]
  },
  {
   "cell_type": "code",
   "execution_count": 29,
   "metadata": {},
   "outputs": [
    {
     "name": "stdout",
     "output_type": "stream",
     "text": [
      "Percentage of predictions with confidence above 0.5: 16.09%\n",
      "Percentage of predictions with confidence above 0.5: 20.99%\n"
     ]
    }
   ],
   "source": [
    "# Function to print the percentage of predictions with confidence above a threshold\n",
    "def print_percentage_above_threshold(sorted_dict, threshold=0.50):\n",
    "    # Extract arrays from the dictionary\n",
    "    predictions = sorted_dict['predictions']\n",
    "    confidences = sorted_dict['confidences']\n",
    "    true_labels = sorted_dict['true_labels']\n",
    "\n",
    "    # Calculate the percentage of predictions with confidence above the threshold\n",
    "    above_threshold = confidences >= threshold\n",
    "    percentage_above_threshold = np.mean(above_threshold) * 100\n",
    "\n",
    "    print(f'Percentage of predictions with confidence above {threshold}: {percentage_above_threshold:.2f}%')\n",
    "\n",
    "# Print the percentage of accurate predictions with confidence above 0.9\n",
    "print_percentage_above_threshold(sorted_accurate_output)\n",
    "\n",
    "# Print the percentage of inaccurate predictions with confidence above 0.9\n",
    "print_percentage_above_threshold(sorted_inaccurate_output)"
   ]
  },
  {
   "cell_type": "code",
   "execution_count": null,
   "metadata": {},
   "outputs": [],
   "source": []
  }
 ],
 "metadata": {
  "kernelspec": {
   "display_name": "data",
   "language": "python",
   "name": "python3"
  },
  "language_info": {
   "codemirror_mode": {
    "name": "ipython",
    "version": 3
   },
   "file_extension": ".py",
   "mimetype": "text/x-python",
   "name": "python",
   "nbconvert_exporter": "python",
   "pygments_lexer": "ipython3",
   "version": "3.11.4"
  }
 },
 "nbformat": 4,
 "nbformat_minor": 2
}
