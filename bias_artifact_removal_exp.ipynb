{
 "cells": [
  {
   "cell_type": "markdown",
   "metadata": {},
   "source": [
    "### Artifact Expert model training"
   ]
  },
  {
   "cell_type": "code",
   "execution_count": 12,
   "metadata": {},
   "outputs": [
    {
     "name": "stderr",
     "output_type": "stream",
     "text": [
      "Some weights of ElectraForSequenceClassification were not initialized from the model checkpoint at google/electra-small-discriminator and are newly initialized: ['classifier.dense.weight', 'classifier.out_proj.bias', 'classifier.out_proj.weight', 'classifier.dense.bias']\n",
      "You should probably TRAIN this model on a down-stream task to be able to use it for predictions and inference.\n",
      "Found cached dataset parquet (/Users/velurib/.cache/huggingface/datasets/veluribharath___parquet/veluribharath--snli-62105ac6e2fb9a2a/0.0.0/2a3b91fbd88a2c90d1dbbb32b460cf621d31bd5b05b934492fdef7d8d6f236ec)\n"
     ]
    },
    {
     "data": {
      "application/vnd.jupyter.widget-view+json": {
       "model_id": "84dd52c2abda4996baedd20662f9e3e5",
       "version_major": 2,
       "version_minor": 0
      },
      "text/plain": [
       "  0%|          | 0/3 [00:00<?, ?it/s]"
      ]
     },
     "metadata": {},
     "output_type": "display_data"
    }
   ],
   "source": [
    "from transformers import AutoTokenizer, AutoModelForSequenceClassification\n",
    "from datasets import load_dataset\n",
    "import datasets\n",
    "from helpers import compute_accuracy\n",
    "\n",
    "# Load the model\n",
    "artifact_expert = AutoModelForSequenceClassification.from_pretrained('google/electra-small-discriminator', num_labels=3)\n",
    "\n",
    "# Initialize the tokenizer\n",
    "tokenizer = AutoTokenizer.from_pretrained('google/electra-small-discriminator', use_fast=True)\n",
    "\n",
    "# Load the dataset\n",
    "dataset = load_dataset('veluribharath/snli')"
   ]
  },
  {
   "cell_type": "code",
   "execution_count": 13,
   "metadata": {},
   "outputs": [],
   "source": [
    "def prepare_dataset_for_artifact_expert(examples, tokenizer, max_seq_length=None):\n",
    "    \"\"\"\n",
    "    Tokenize just the hypothesis using the given tokenizer.\n",
    "    \"\"\"\n",
    "\n",
    "    max_seq_length = tokenizer.model_max_length if max_seq_length is None else max_seq_length\n",
    "\n",
    "    # Tokenize only the hypothesis part\n",
    "    tokenized_examples = tokenizer(\n",
    "        examples['hypothesis'],\n",
    "        padding='max_length',\n",
    "        truncation=True,\n",
    "        max_length=max_seq_length\n",
    "    )\n",
    "\n",
    "    # Include labels as before\n",
    "    tokenized_examples['label'] = examples['label']\n",
    "    return tokenized_examples\n"
   ]
  },
  {
   "cell_type": "code",
   "execution_count": 14,
   "metadata": {},
   "outputs": [
    {
     "name": "stderr",
     "output_type": "stream",
     "text": [
      "Loading cached processed dataset at /Users/velurib/.cache/huggingface/datasets/veluribharath___parquet/veluribharath--snli-62105ac6e2fb9a2a/0.0.0/2a3b91fbd88a2c90d1dbbb32b460cf621d31bd5b05b934492fdef7d8d6f236ec/cache-0fe64601b7adae6c_*_of_00030.arrow\n"
     ]
    },
    {
     "data": {
      "text/plain": [
       "Dataset({\n",
       "    features: ['label', 'input_ids', 'token_type_ids', 'attention_mask'],\n",
       "    num_rows: 549367\n",
       "})"
      ]
     },
     "execution_count": 14,
     "metadata": {},
     "output_type": "execute_result"
    }
   ],
   "source": [
    "# Prepare the dataset\n",
    "prepared_dataset = dataset['train'].map(\n",
    "    lambda examples: prepare_dataset_for_artifact_expert(examples, tokenizer, max_seq_length=tokenizer.model_max_length),\n",
    "    batched=True,\n",
    "    num_proc=30,\n",
    "    remove_columns=dataset['train'].column_names  # This removes the original columns, only keeping the processed ones\n",
    ")\n",
    "\n",
    "prepared_dataset"
   ]
  },
  {
   "cell_type": "code",
   "execution_count": 15,
   "metadata": {
    "scrolled": true
   },
   "outputs": [],
   "source": [
    "train_dataset = prepared_dataset.select(range(0,100))"
   ]
  },
  {
   "cell_type": "code",
   "execution_count": 16,
   "metadata": {
    "scrolled": true
   },
   "outputs": [],
   "source": [
    "from transformers import Trainer, TrainingArguments\n",
    "\n",
    "training_args = TrainingArguments(\n",
    "    output_dir='./artifact_expert_model',  # directory for model output\n",
    "    num_train_epochs=3,                    # number of training epochs\n",
    "    per_device_train_batch_size=16,        # batch size for training\n",
    "    per_device_eval_batch_size=64,         # batch size for evaluation\n",
    "    warmup_steps=500,                      # number of warmup steps for learning rate scheduler\n",
    "    weight_decay=0.01,                     # strength of weight decay\n",
    "    logging_dir='./logs',                  # directory for storing logs\n",
    "    logging_steps=10,\n",
    "    save_strategy='epoch',\n",
    ")\n",
    "\n",
    "trainer = Trainer(\n",
    "    model=artifact_expert,\n",
    "    args=training_args,\n",
    "    train_dataset=train_dataset,\n",
    "    compute_metrics=compute_accuracy\n",
    ")"
   ]
  },
  {
   "cell_type": "code",
   "execution_count": 18,
   "metadata": {
    "scrolled": true
   },
   "outputs": [
    {
     "data": {
      "text/html": [
       "\n",
       "    <div>\n",
       "      \n",
       "      <progress value='21' max='21' style='width:300px; height:20px; vertical-align: middle;'></progress>\n",
       "      [21/21 00:10, Epoch 3/3]\n",
       "    </div>\n",
       "    <table border=\"1\" class=\"dataframe\">\n",
       "  <thead>\n",
       " <tr style=\"text-align: left;\">\n",
       "      <th>Step</th>\n",
       "      <th>Training Loss</th>\n",
       "    </tr>\n",
       "  </thead>\n",
       "  <tbody>\n",
       "    <tr>\n",
       "      <td>10</td>\n",
       "      <td>1.098000</td>\n",
       "    </tr>\n",
       "    <tr>\n",
       "      <td>20</td>\n",
       "      <td>1.101100</td>\n",
       "    </tr>\n",
       "  </tbody>\n",
       "</table><p>"
      ],
      "text/plain": [
       "<IPython.core.display.HTML object>"
      ]
     },
     "metadata": {},
     "output_type": "display_data"
    }
   ],
   "source": [
    "trainer.train()\n",
    "trainer.save_model()\n",
    "# # Save the model and the tokenizer\n",
    "# model_save_path = \"./model_output/final_model\"\n",
    "# trainer.model.save_pretrained(model_save_path)\n",
    "# trainer.tokenizer.save_pretrained(model_save_path)\n",
    "\n",
    "# trainer.save_state()"
   ]
  },
  {
   "cell_type": "code",
   "execution_count": 19,
   "metadata": {},
   "outputs": [
    {
     "name": "stderr",
     "output_type": "stream",
     "text": [
      "Found cached dataset parquet (/Users/velurib/.cache/huggingface/datasets/veluribharath___parquet/veluribharath--snli-62105ac6e2fb9a2a/0.0.0/2a3b91fbd88a2c90d1dbbb32b460cf621d31bd5b05b934492fdef7d8d6f236ec)\n"
     ]
    },
    {
     "data": {
      "application/vnd.jupyter.widget-view+json": {
       "model_id": "",
       "version_major": 2,
       "version_minor": 0
      },
      "text/plain": [
       "Map:   0%|          | 0/9842 [00:00<?, ? examples/s]"
      ]
     },
     "metadata": {},
     "output_type": "display_data"
    },
    {
     "data": {
      "text/plain": [
       "Dataset({\n",
       "    features: ['label', 'input_ids', 'token_type_ids', 'attention_mask'],\n",
       "    num_rows: 9842\n",
       "})"
      ]
     },
     "execution_count": 19,
     "metadata": {},
     "output_type": "execute_result"
    }
   ],
   "source": [
    "# evaluate the model\n",
    "\n",
    "eval_dataset = datasets.load_dataset('veluribharath/snli', split='validation')\n",
    "eval_dataset_featurized = eval_dataset.map(\n",
    "    lambda exs: prepare_dataset_for_artifact_expert(exs, tokenizer, max_seq_length=tokenizer.model_max_length),\n",
    "    batched=True,\n",
    "    remove_columns=eval_dataset.column_names\n",
    ")\n",
    "\n",
    "eval_dataset_featurized"
   ]
  },
  {
   "cell_type": "code",
   "execution_count": 20,
   "metadata": {},
   "outputs": [
    {
     "data": {
      "text/html": [
       "\n",
       "    <div>\n",
       "      \n",
       "      <progress value='154' max='154' style='width:300px; height:20px; vertical-align: middle;'></progress>\n",
       "      [154/154 01:20]\n",
       "    </div>\n",
       "    "
      ],
      "text/plain": [
       "<IPython.core.display.HTML object>"
      ]
     },
     "metadata": {},
     "output_type": "display_data"
    },
    {
     "name": "stdout",
     "output_type": "stream",
     "text": [
      "Evaluation results: {'eval_loss': 1.097949504852295, 'eval_accuracy': 0.3503352999687195, 'eval_runtime': 81.9243, 'eval_samples_per_second': 120.135, 'eval_steps_per_second': 1.88, 'epoch': 3.0}\n"
     ]
    }
   ],
   "source": [
    "eval_results = trainer.evaluate(eval_dataset_featurized)\n",
    "print('Evaluation results:', eval_results)"
   ]
  },
  {
   "cell_type": "code",
   "execution_count": 22,
   "metadata": {
    "scrolled": true
   },
   "outputs": [],
   "source": [
    "# import torch\n",
    "# # Save the main model\n",
    "# torch.save(artifact_expert, 'models/artifact_expert.pth')"
   ]
  },
  {
   "cell_type": "markdown",
   "metadata": {},
   "source": [
    "### Retraining the main model using weighted output to remove bias artifact"
   ]
  },
  {
   "cell_type": "code",
   "execution_count": 23,
   "metadata": {},
   "outputs": [
    {
     "name": "stderr",
     "output_type": "stream",
     "text": [
      "Some weights of ElectraForSequenceClassification were not initialized from the model checkpoint at google/electra-small-discriminator and are newly initialized: ['classifier.dense.weight', 'classifier.out_proj.bias', 'classifier.out_proj.weight', 'classifier.dense.bias']\n",
      "You should probably TRAIN this model on a down-stream task to be able to use it for predictions and inference.\n"
     ]
    }
   ],
   "source": [
    "# Load the main model\n",
    "main_model = AutoModelForSequenceClassification.from_pretrained('google/electra-small-discriminator', num_labels=3)"
   ]
  },
  {
   "cell_type": "code",
   "execution_count": 24,
   "metadata": {},
   "outputs": [
    {
     "name": "stdout",
     "output_type": "stream",
     "text": [
      "This is a PyTorch model.\n"
     ]
    }
   ],
   "source": [
    "import torch\n",
    "if isinstance(artifact_expert, torch.nn.Module) and isinstance(main_model, torch.nn.Module):\n",
    "    print(\"This is a PyTorch model.\")"
   ]
  },
  {
   "cell_type": "code",
   "execution_count": 25,
   "metadata": {},
   "outputs": [
    {
     "data": {
      "application/vnd.jupyter.widget-view+json": {
       "model_id": "",
       "version_major": 2,
       "version_minor": 0
      },
      "text/plain": [
       "Map (num_proc=30):   0%|          | 0/549367 [00:00<?, ? examples/s]"
      ]
     },
     "metadata": {},
     "output_type": "display_data"
    },
    {
     "data": {
      "text/plain": [
       "Dataset({\n",
       "    features: ['label', 'input_ids', 'token_type_ids', 'attention_mask'],\n",
       "    num_rows: 549367\n",
       "})"
      ]
     },
     "execution_count": 25,
     "metadata": {},
     "output_type": "execute_result"
    }
   ],
   "source": [
    "from helpers import prepare_dataset_nli\n",
    "\n",
    "# Prepare the dataset\n",
    "prepared_main_dataset = dataset['train'].map(\n",
    "    lambda examples: prepare_dataset_nli(examples, tokenizer, max_seq_length=tokenizer.model_max_length),\n",
    "    batched=True,\n",
    "    num_proc=30,\n",
    "    remove_columns=dataset['train'].column_names  # This removes the original columns, only keeping the processed ones\n",
    ")\n",
    "\n",
    "prepared_main_dataset"
   ]
  },
  {
   "cell_type": "code",
   "execution_count": 28,
   "metadata": {
    "scrolled": true
   },
   "outputs": [],
   "source": [
    "prepared_main_dataset = prepared_main_dataset.select(range(0,100))"
   ]
  },
  {
   "cell_type": "code",
   "execution_count": 29,
   "metadata": {},
   "outputs": [],
   "source": [
    "from torch.utils.data import DataLoader\n",
    "from transformers import DefaultDataCollator\n",
    "\n",
    "# Convert the dataset to PyTorch format\n",
    "prepared_main_dataset.set_format('torch', columns=['label', 'input_ids', 'attention_mask', 'token_type_ids'])\n",
    "\n",
    "# Data collator used for dynamically padding the inputs and labels\n",
    "data_collator = DefaultDataCollator()\n",
    "\n",
    "# Creating a DataLoader to iterate over the training dataset\n",
    "train_dataloader = DataLoader(\n",
    "    prepared_main_dataset, \n",
    "    batch_size=32,  # TODO: batch size\n",
    "    shuffle=True,  # Shuffling the data for each epoch\n",
    "    collate_fn=data_collator  # Collator will handle dynamic padding\n",
    ")\n"
   ]
  },
  {
   "cell_type": "code",
   "execution_count": 30,
   "metadata": {},
   "outputs": [
    {
     "name": "stderr",
     "output_type": "stream",
     "text": [
      "100%|█████████████████████████████████████████████| 4/4 [00:01<00:00,  3.05it/s]\n"
     ]
    }
   ],
   "source": [
    "import numpy as np\n",
    "from tqdm import tqdm\n",
    "\n",
    "# Generating predictions from artifact expert\n",
    "artifact_predictions = []\n",
    "with torch.no_grad():\n",
    "    for batch in tqdm(train_dataloader):\n",
    "        inputs = {k: v.to(artifact_expert.device) for k, v in batch.items() if k != 'labels'}\n",
    "        outputs = artifact_expert(**inputs)\n",
    "        artifact_predictions.append(outputs.logits.detach().cpu().numpy())\n",
    "artifact_predictions = np.concatenate(artifact_predictions, axis=0)"
   ]
  },
  {
   "cell_type": "code",
   "execution_count": 32,
   "metadata": {},
   "outputs": [],
   "source": [
    "def adjust_weights(true_labels, artifact_preds, threshold=0.5):\n",
    "    \"\"\"\n",
    "    Adjust the sample weights based on artifact expert predictions.\n",
    "\n",
    "    Args:\n",
    "    - true_labels (Tensor): The true labels for the training data.\n",
    "    - artifact_preds (ndarray): The predictions from the artifact expert model.\n",
    "    - threshold (float): A threshold to decide the weight of each sample.\n",
    "\n",
    "    Returns:\n",
    "    - Tensor: Weights for each sample.\n",
    "    \"\"\"\n",
    "    # Convert artifact predictions to probabilities\n",
    "    artifact_probs = torch.softmax(torch.from_numpy(artifact_preds), dim=-1)\n",
    "\n",
    "    # Get the max probability and corresponding label for each prediction\n",
    "    max_probs, artifact_labels = torch.max(artifact_probs, dim=-1)\n",
    "\n",
    "    # Check if the artifact prediction agrees with the true label\n",
    "    agreement = artifact_labels == true_labels\n",
    "\n",
    "    # Calculate weights: Lower weight if artifact model is too confident and agrees with the true label\n",
    "    weights = torch.where((max_probs > threshold) & agreement, 0.5, 1.0)  # Half the weight if too confident and in agreement\n",
    "\n",
    "    return weights"
   ]
  },
  {
   "cell_type": "code",
   "execution_count": 33,
   "metadata": {},
   "outputs": [
    {
     "name": "stderr",
     "output_type": "stream",
     "text": [
      "/opt/homebrew/Caskroom/miniconda/base/envs/nlp/lib/python3.11/site-packages/transformers/optimization.py:411: FutureWarning: This implementation of AdamW is deprecated and will be removed in a future version. Use the PyTorch implementation torch.optim.AdamW instead, or set `no_deprecation_warning=True` to disable this warning\n",
      "  warnings.warn(\n",
      "  0%|                                                     | 0/3 [00:00<?, ?it/s]"
     ]
    },
    {
     "name": "stdout",
     "output_type": "stream",
     "text": [
      "Epoch: 0, Loss: 1.1014829874038696\n",
      "Epoch: 0, Loss: 1.0941085815429688\n",
      "Epoch: 0, Loss: 1.1036146879196167\n"
     ]
    },
    {
     "name": "stderr",
     "output_type": "stream",
     "text": [
      "\r",
      " 33%|███████████████                              | 1/3 [00:20<00:41, 20.64s/it]"
     ]
    },
    {
     "name": "stdout",
     "output_type": "stream",
     "text": [
      "Epoch: 0, Loss: 1.0908246040344238\n",
      "Epoch: 1, Loss: 1.0922794342041016\n",
      "Epoch: 1, Loss: 1.0995546579360962\n",
      "Epoch: 1, Loss: 1.0951451063156128\n"
     ]
    },
    {
     "name": "stderr",
     "output_type": "stream",
     "text": [
      "\r",
      " 67%|██████████████████████████████               | 2/3 [00:38<00:19, 19.21s/it]"
     ]
    },
    {
     "name": "stdout",
     "output_type": "stream",
     "text": [
      "Epoch: 1, Loss: 1.1114813089370728\n",
      "Epoch: 2, Loss: 1.091253399848938\n",
      "Epoch: 2, Loss: 1.0976595878601074\n",
      "Epoch: 2, Loss: 1.0903254747390747\n"
     ]
    },
    {
     "name": "stderr",
     "output_type": "stream",
     "text": [
      "100%|█████████████████████████████████████████████| 3/3 [00:58<00:00, 19.40s/it]"
     ]
    },
    {
     "name": "stdout",
     "output_type": "stream",
     "text": [
      "Epoch: 2, Loss: 1.1074068546295166\n"
     ]
    },
    {
     "name": "stderr",
     "output_type": "stream",
     "text": [
      "\n"
     ]
    }
   ],
   "source": [
    "import torch\n",
    "from transformers import AdamW\n",
    "from tqdm import tqdm\n",
    "\n",
    "# Optimizer\n",
    "optimizer = AdamW(main_model.parameters(), lr=5e-5)\n",
    "\n",
    "# Training loop\n",
    "num_epochs = 3  # TODO: number of epochs\n",
    "\n",
    "for epoch in tqdm(range(num_epochs)):\n",
    "    main_model.train()\n",
    "    for i, batch in enumerate(train_dataloader):\n",
    "\n",
    "        # Extract labels and adjust the weights\n",
    "        true_labels = batch['labels'].numpy()\n",
    "        batch_artifact_preds = artifact_predictions[i * batch['labels'].size(0):(i + 1) * batch['labels'].size(0)]\n",
    "        weights = adjust_weights(true_labels, batch_artifact_preds)\n",
    "\n",
    "        # Prepare batch for training\n",
    "        batch = {k: v.to(main_model.device) for k, v in batch.items()}\n",
    "        \n",
    "        # Forward pass\n",
    "        outputs = main_model(**batch)\n",
    "        loss = outputs.loss\n",
    "\n",
    "        # Modify loss based on weights and compute weighted loss\n",
    "        weighted_loss = (loss * weights.to(main_model.device)).mean()\n",
    "\n",
    "        # Backward pass and optimization\n",
    "        optimizer.zero_grad()\n",
    "        weighted_loss.backward()\n",
    "        optimizer.step()\n",
    "\n",
    "        print(f\"Epoch: {epoch}, Loss: {weighted_loss.item()}\")"
   ]
  },
  {
   "cell_type": "code",
   "execution_count": 34,
   "metadata": {},
   "outputs": [
    {
     "data": {
      "text/html": [
       "\n",
       "    <div>\n",
       "      \n",
       "      <progress value='154' max='154' style='width:300px; height:20px; vertical-align: middle;'></progress>\n",
       "      [154/154 01:19]\n",
       "    </div>\n",
       "    "
      ],
      "text/plain": [
       "<IPython.core.display.HTML object>"
      ]
     },
     "metadata": {},
     "output_type": "display_data"
    },
    {
     "name": "stdout",
     "output_type": "stream",
     "text": [
      "Evaluation results: {'eval_loss': 1.0997998714447021, 'eval_accuracy': 0.336212158203125, 'eval_runtime': 81.041, 'eval_samples_per_second': 121.445, 'eval_steps_per_second': 1.9}\n"
     ]
    }
   ],
   "source": [
    "# evaluate the model\n",
    "# dummy trainer object arguments\n",
    "main_model_training_args = TrainingArguments(\n",
    "    output_dir='./main_model',             # directory for model output\n",
    "    num_train_epochs=3,                    # number of training epochs\n",
    "    per_device_train_batch_size=16,        # batch size for training\n",
    "    per_device_eval_batch_size=64,         # batch size for evaluation\n",
    "    warmup_steps=500,                      # number of warmup steps for learning rate scheduler\n",
    "    weight_decay=0.01,                     # strength of weight decay\n",
    "    logging_dir='./main_logs',             # directory for storing logs\n",
    "    logging_steps=10,\n",
    ")\n",
    "\n",
    "# dummy trainer object\n",
    "main_trainer = Trainer(\n",
    "    model=main_model,\n",
    "    args=main_model_training_args,\n",
    "    train_dataset=prepared_main_dataset,\n",
    "    compute_metrics=compute_accuracy\n",
    ")\n",
    "\n",
    "#main model evaluation\n",
    "eval_results = main_trainer.evaluate(eval_dataset_featurized)\n",
    "print('Evaluation results:', eval_results)"
   ]
  },
  {
   "cell_type": "code",
   "execution_count": null,
   "metadata": {},
   "outputs": [],
   "source": [
    "# Save the main model\n",
    "torch.save(main_model, 'models/main_model.pth')"
   ]
  }
 ],
 "metadata": {
  "kernelspec": {
   "display_name": "Python 3 (ipykernel)",
   "language": "python",
   "name": "python3"
  },
  "language_info": {
   "codemirror_mode": {
    "name": "ipython",
    "version": 3
   },
   "file_extension": ".py",
   "mimetype": "text/x-python",
   "name": "python",
   "nbconvert_exporter": "python",
   "pygments_lexer": "ipython3",
   "version": "3.11.5"
  }
 },
 "nbformat": 4,
 "nbformat_minor": 2
}
